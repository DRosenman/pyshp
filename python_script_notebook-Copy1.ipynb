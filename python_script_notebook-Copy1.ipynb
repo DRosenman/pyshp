{
 "cells": [
  {
   "cell_type": "markdown",
   "metadata": {
    "slideshow": {
     "slide_type": "slide"
    }
   },
   "source": [
    "<h1>Code Revision 9/11/17</h1>\n",
    "\n",
    "I rewrote all of Ed's code up to the point where he starts using HTML. So tomorrow I will start working on the HTML. After all of the raw code is displayed below, I went through the code piece by piece to explain how it worked and to test it out by executing it, from the top to the bottom, in notebook cells. The 'in' chunks show input code underneath each 'in' chunk I have printed the main data structures created by that chunk of code.\n",
    "\n",
    "I think this will be helpful as a reference when I move on to the HTML portion of Ed's code, and if I am unfortunately not able to complete the entire task, maybe this will serve to get someone who might be able to help me up to speed quickly. It also might be a helpful reference if I try and just create an equivalent file in R.\n"
   ]
  },
  {
   "cell_type": "markdown",
   "metadata": {
    "slideshow": {
     "slide_type": "slide"
    }
   },
   "source": [
    "<h2>Entire Raw Code File  <a name=\"rawcode\"></a></h2>\n",
    "\n",
    "```python\n",
    "#Importing the packages pandas and numpy\n",
    "import pandas as pd\n",
    "import numpy as np\n",
    "\n",
    "\n",
    "def TMDL_list_of_tuples(file,columns = None):\n",
    "    '''argument:\n",
    "            file: a .csv file\n",
    "            columns: (optional; list of subset of columns to use)\n",
    "       returns:\n",
    "             a list of tuples: each tuple in the list represents\n",
    "                               a row in the csv. If you specify a \n",
    "                               list of columns to keep, each tuple \n",
    "                               will contain only the values in those \n",
    "                               columns.\n",
    "                                     \n",
    "    '''\n",
    "    dataframe = pd.read_csv(file)\n",
    "    if columns is not None:\n",
    "        dataframe = dataframe.loc[:,columns]\n",
    "    return([tuple(x) for x in dataframe.values])\n",
    "\n",
    "def TMDL_df(file, columns = None):\n",
    "    '''\n",
    "    arguments:\n",
    "        file: the file containing the data in the form of a csv\n",
    "        columns: list of a subset of columns to be imported\n",
    "    returns: \n",
    "        dataframe of the subset of columns from the imported file\n",
    "        \n",
    "    '''\n",
    "    dataframe = pd.read_csv(file)\n",
    "    if columns is not None:\n",
    "        dataframe = dataframe.loc[:,columns]\n",
    "    return(dataframe)\n",
    "    \n",
    "def TMDL_df_to_list_of_tuples(dataframe):\n",
    "     return([tuple(x) for x in dataframe.values])\n",
    "```"
   ]
  },
  {
   "cell_type": "markdown",
   "metadata": {
    "slideshow": {
     "slide_type": "subslide"
    }
   },
   "source": [
    "```python\n",
    "\n",
    "#Create of dataframe from Mun_Lakes file\n",
    "Lakes_DF = TMDL_df('Mun_Lakes_NoDups_NewLink_20160223.csv')\n",
    "\n",
    "#Creation of list of tuples from Mun_Lakes file \n",
    "LakeTmdlList = TMDL_list_of_tuples('Mun_Lakes_NoDups_NewLink_20160223.csv')\n",
    "\n",
    "#Dataframe from Mun_Shellfish file\n",
    "ShellFish_DF = TMDL_df('Mun_Shellfish_NoDups_NewLink_20160223.csv')\n",
    "\n",
    "##Creation of list of tuples from Mun_Lakes file\n",
    "ShellTmdlList  = TMDL_list_of_tuples(\"Mun_Shellfish_NoDups_NewLink_20160223.csv\")\n",
    "\n",
    "Stream_DF = TMDL_df('Mun_Streams_NoDups_NewLink_20160223.csv')\n",
    "StreamTmdlList = TMDL_list_of_tuples('Mun_Streams_NoDups_NewLink_20160223.csv')\n",
    "\n",
    "#Creation of unique list MunCodes\n",
    "\n",
    "#creation of dataframe containing the single column 'Muncode'\n",
    "Munis = TMDL_df('Muni_HUC14_MunCode_20160511.csv',columns = ['Muncode'])\n",
    "\n",
    "#Dropping duplicates\n",
    "Munis = Munis.drop_duplicates()\n",
    "\n",
    "#Turning munis into a sorted list of muncode values\n",
    "Munis = list(np.sort(Munis['Muncode'].values))\n",
    "\n",
    "#Creation of MuniLbls DataFrame. \n",
    "#Each Row contains a Muncode, MunName, and the County. \n",
    "#Used the optional columns argument, so that the HUC14 columnwas not.\n",
    "MuniLbls_DF = TMDL_df('Muni_HUC14_MunCode_20160511.csv',\n",
    "                      columns = ['Muncode','MunName','County'])\n",
    "\n",
    "python\n",
    "#The County names were in all uppercase. \n",
    "#The following line converts the County Names to Title Case\n",
    "MuniLbls_DF.County = MuniLbls_DF['County'].str.title()\n",
    "\n",
    "#Removal of Duplicates\n",
    "MuniLbls_DF = MuniLbls_DF.drop_duplicates()\n",
    "\n",
    "#Sorting the dataframe by muncode. \n",
    "#  '.reset_index(drop = True) is necessary to resort the index numbers.\n",
    "MuniLbls_DF = MuniLbls_DF.sort_values(by = 'Muncode')\n",
    "\n",
    "#Resets the index so it start from 0\n",
    "MuniLbls_DF = MuniLbls_DF.reset_index(drop=True)\n",
    "\n",
    "#Creation of MuniLbls list of tuples from MuniLbls_DF\n",
    "MuniLbls = TMDL_df_to_list_of_tuples(MuniLbls_DF)\n",
    "```"
   ]
  },
  {
   "cell_type": "markdown",
   "metadata": {
    "slideshow": {
     "slide_type": "slide"
    }
   },
   "source": [
    "<h2>Data Structures Used <a name=\"data-structures\"></a></h2>\n",
    "- **List of Tuples**: A tuple is an immutable list of values. They begin with '(' and end with ')'. The values in a tuple are seperated by commas. For examples, you could represent the point in a cartesian coordinate system at x = 3, y = 4 as the tuple (3,4). In Ed's code, he read in the text files as lists of tuples. So each row of a text file was turned into a tuple. A list of tuples is a list in which the elements of the lists are tuples. \n",
    "\n",
    "     For examples, if I have the type points (0,5) and (0,7), I could store them in a list of tuples as [(0,5), (0,7)]. (0,5) is the first element of the list. (0,7) is the second element of the list. \n",
    "    \n",
    "    'csv' files are easier to work with in python than txt files, so I changed Ed's .txt files to csvs. I also added a header row (a row with column names). I created the function **TMDL_list_of_tuples** to import a csv file and create a list of tuples, with each row accounting for one tuple. It takes two arugments. 'file', which is the location of the file, and 'columns'. Columns is an optional argument. If you only want to use a subset of the columns, you can create a list of the columns you want to extract data from. If you don't include this argument, all the columns in the csv will be included in the list of tuples.\n",
    " \n",
    " \n",
    "- **Pandas DataFrames**: Lists of tuples look like a mess, so I created the function **TMDL_df** to create a dataframe from a csv file instead of a list of tuples. There are two arguments to the function; 'file' is the location of the csv file you want to import and 'columns'. Columns is an optional argument. If you only want to use a subset of the colunms, you can create a list of the columns you want to extract. If you don't include this argument, all the columns in the csv will be included in the dataframe.\n",
    "\n",
    "    I also created a function **TMDL_df_to_list_of_tuples** to convert dataframes already created from **TMDL_df** into lists of duples. The only argument that it takes is a dataframe."
   ]
  },
  {
   "cell_type": "markdown",
   "metadata": {
    "slideshow": {
     "slide_type": "slide"
    }
   },
   "source": [
    "<h2>Breaking Down the Code Piece by Piece</h2>"
   ]
  },
  {
   "cell_type": "markdown",
   "metadata": {
    "slideshow": {
     "slide_type": "slide"
    }
   },
   "source": [
    "<h3>Functions Created to Make DataStructures From .csv Files</h3>"
   ]
  },
  {
   "cell_type": "code",
   "execution_count": 2,
   "metadata": {
    "collapsed": true,
    "slideshow": {
     "slide_type": "subslide"
    }
   },
   "outputs": [],
   "source": [
    "#Importing the packages pandas, numpy, and the function display from the Ipython.display module\n",
    "import pandas as pd\n",
    "import numpy as np\n",
    "from IPython.display import display\n",
    "\n",
    "def TMDL_list_of_tuples(file,columns = None):\n",
    "'''arguments:\n",
    "        file: a .csv file\n",
    "        columns: (optional; list of subset of columns to use)\n",
    "   returns:\n",
    "        a list of tuples: each tuple in the list represents\n",
    "        a row in the csv. If you specify a list of columns to keep,\n",
    "        each tuple will contain only the values in those columns.\n",
    "                                    \n",
    "    '''\n",
    "    dataframe = pd.read_csv(file)\n",
    "    if columns is not None:\n",
    "        dataframe = dataframe.loc[:,columns]\n",
    "    return([tuple(x) for x in dataframe.values])\n",
    "\n",
    "def TMDL_df(file, columns = None):\n",
    "    '''\n",
    "    arguments:\n",
    "        file: the file containing the data in the form of a csv\n",
    "        columns: list of a subset of columns to be imported\n",
    "    returns: \n",
    "        dataframe of the subset of columns from the imported file\n",
    "        \n",
    "    '''\n",
    "    dataframe = pd.read_csv(file)\n",
    "    if columns is not None:\n",
    "        dataframe = dataframe.loc[:,columns]\n",
    "    return(dataframe)\n",
    "\n",
    "def TMDL_df_to_list_of_tuples(dataframe):\n",
    "     return([tuple(x) for x in dataframe.values])\n",
    "    \n",
    "    "
   ]
  },
  {
   "cell_type": "markdown",
   "metadata": {
    "slideshow": {
     "slide_type": "slide"
    }
   },
   "source": [
    "### Creation of DataFrame and List of Tuples From Mun_Lakes File <a name=\"lakes\"></a> "
   ]
  },
  {
   "cell_type": "code",
   "execution_count": 2,
   "metadata": {
    "slideshow": {
     "slide_type": "subslide"
    }
   },
   "outputs": [
    {
     "name": "stdout",
     "output_type": "stream",
     "text": [
      "FIRST FIVE ROWS OF LAKES_DF\n"
     ]
    },
    {
     "data": {
      "text/html": [
       "<div>\n",
       "<style>\n",
       "    .dataframe thead tr:only-child th {\n",
       "        text-align: right;\n",
       "    }\n",
       "\n",
       "    .dataframe thead th {\n",
       "        text-align: left;\n",
       "    }\n",
       "\n",
       "    .dataframe tbody tr th {\n",
       "        vertical-align: top;\n",
       "    }\n",
       "</style>\n",
       "<table border=\"1\" class=\"dataframe\">\n",
       "  <thead>\n",
       "    <tr style=\"text-align: right;\">\n",
       "      <th></th>\n",
       "      <th>LakeMuncode</th>\n",
       "      <th>Lakeshed</th>\n",
       "      <th>LakeParameter</th>\n",
       "      <th>LakeTMDLTitle</th>\n",
       "      <th>TmdlYear</th>\n",
       "      <th>TmdlDoc_DEP</th>\n",
       "    </tr>\n",
       "  </thead>\n",
       "  <tbody>\n",
       "    <tr>\n",
       "      <th>0</th>\n",
       "      <td>804</td>\n",
       "      <td>Iona Lake</td>\n",
       "      <td>Fecal Coliform</td>\n",
       "      <td>Total Maximum Daily Loads for Pathogens to Add...</td>\n",
       "      <td>2007</td>\n",
       "      <td>http://www.nj.gov/dep/wms/bears/docs/adopted_l...</td>\n",
       "    </tr>\n",
       "    <tr>\n",
       "      <th>1</th>\n",
       "      <td>805</td>\n",
       "      <td>Braddock Lake</td>\n",
       "      <td>Fecal Coliform</td>\n",
       "      <td>Total Maximum Daily Loads for Pathogens to Add...</td>\n",
       "      <td>2007</td>\n",
       "      <td>http://www.nj.gov/dep/wms/bears/docs/adopted_a...</td>\n",
       "    </tr>\n",
       "    <tr>\n",
       "      <th>2</th>\n",
       "      <td>805</td>\n",
       "      <td>Burnt Mill Pond</td>\n",
       "      <td>Total Phosphorus</td>\n",
       "      <td>Total Maximum Daily Loads for Phosphorus To Ad...</td>\n",
       "      <td>2003</td>\n",
       "      <td>http://www.nj.gov/dep/wms/bears/docs/Lower%20D...</td>\n",
       "    </tr>\n",
       "    <tr>\n",
       "      <th>3</th>\n",
       "      <td>805</td>\n",
       "      <td>Cushman Lake</td>\n",
       "      <td>Fecal Coliform</td>\n",
       "      <td>Total Maximum Daily Loads for Pathogens to Add...</td>\n",
       "      <td>2007</td>\n",
       "      <td>#http://www.nj.gov/dep/wms/bears/docs/adopted_...</td>\n",
       "    </tr>\n",
       "    <tr>\n",
       "      <th>4</th>\n",
       "      <td>805</td>\n",
       "      <td>Eastern Gate Lake</td>\n",
       "      <td>Fecal Coliform</td>\n",
       "      <td>Total Maximum Daily Loads for Pathogens to Add...</td>\n",
       "      <td>2007</td>\n",
       "      <td>http://www.nj.gov/dep/wms/bears/docs/adopted_l...</td>\n",
       "    </tr>\n",
       "  </tbody>\n",
       "</table>\n",
       "</div>"
      ],
      "text/plain": [
       "   LakeMuncode           Lakeshed     LakeParameter  \\\n",
       "0          804          Iona Lake    Fecal Coliform   \n",
       "1          805      Braddock Lake    Fecal Coliform   \n",
       "2          805    Burnt Mill Pond  Total Phosphorus   \n",
       "3          805       Cushman Lake    Fecal Coliform   \n",
       "4          805  Eastern Gate Lake    Fecal Coliform   \n",
       "\n",
       "                                       LakeTMDLTitle  TmdlYear  \\\n",
       "0  Total Maximum Daily Loads for Pathogens to Add...      2007   \n",
       "1  Total Maximum Daily Loads for Pathogens to Add...      2007   \n",
       "2  Total Maximum Daily Loads for Phosphorus To Ad...      2003   \n",
       "3  Total Maximum Daily Loads for Pathogens to Add...      2007   \n",
       "4  Total Maximum Daily Loads for Pathogens to Add...      2007   \n",
       "\n",
       "                                         TmdlDoc_DEP  \n",
       "0  http://www.nj.gov/dep/wms/bears/docs/adopted_l...  \n",
       "1  http://www.nj.gov/dep/wms/bears/docs/adopted_a...  \n",
       "2  http://www.nj.gov/dep/wms/bears/docs/Lower%20D...  \n",
       "3  #http://www.nj.gov/dep/wms/bears/docs/adopted_...  \n",
       "4  http://www.nj.gov/dep/wms/bears/docs/adopted_l...  "
      ]
     },
     "metadata": {},
     "output_type": "display_data"
    },
    {
     "name": "stdout",
     "output_type": "stream",
     "text": [
      "\n",
      "First Five Tuples in LakeTmdlList\n",
      "\n",
      "[(804, 'Iona Lake', 'Fecal Coliform', 'Total Maximum Daily Loads for Pathogens to Address 17 Lakes in the Lower Delaware Water Region', 2007, 'http://www.nj.gov/dep/wms/bears/docs/adopted_lowerdelaware_fecal_lake.pdf'), (805, 'Braddock Lake', 'Fecal Coliform', 'Total Maximum Daily Loads for Pathogens to Address 18 Lakes in the Atlantic Coastal Water Region', 2007, 'http://www.nj.gov/dep/wms/bears/docs/adopted_atlantic_fecal_lake.pdf'), (805, 'Burnt Mill Pond', 'Total Phosphorus', 'Total Maximum Daily Loads for Phosphorus To Address 13 Eutrophic Lakes in the Lower Delaware Water Region', 2003, 'http://www.nj.gov/dep/wms/bears/docs/Lower%20Delaware%20Lakes.pdf'), (805, 'Cushman Lake', 'Fecal Coliform', 'Total Maximum Daily Loads for Pathogens to Address 18 Lakes in the Atlantic Coastal Water Region', 2007, '#http://www.nj.gov/dep/wms/bears/docs/adopted_atlantic_fecal_lake.pdf#')]\n"
     ]
    }
   ],
   "source": [
    "#Create of dataframe from Mun_Lakes file\n",
    "Lakes_DF = TMDL_df('Mun_Lakes_NoDups_NewLink_20160223.csv')\n",
    "\n",
    "#Creation of list of tuples from Mun_Lakes file \n",
    "LakeTmdlList = TMDL_list_of_tuples('Mun_Lakes_NoDups_NewLink_20160223.csv')\n",
    "\n",
    "\n",
    "print('FIRST FIVE ROWS OF LAKES_DF')\n",
    "display(Lakes_DF.head())\n",
    "print(\"\\nFirst Five Tuples in LakeTmdlList\\n\")\n",
    "print(LakeTmdlList[0:4])"
   ]
  },
  {
   "cell_type": "markdown",
   "metadata": {
    "slideshow": {
     "slide_type": "slide"
    }
   },
   "source": [
    "### Creation of DataFrame and List of Tuples From Mun_Shellfish File <a name=\"shellfish\"></a> "
   ]
  },
  {
   "cell_type": "code",
   "execution_count": 3,
   "metadata": {
    "slideshow": {
     "slide_type": "subslide"
    }
   },
   "outputs": [
    {
     "name": "stdout",
     "output_type": "stream",
     "text": [
      "FIRST FIVE ROWS OF ShellFish_DF\n"
     ]
    },
    {
     "data": {
      "text/html": [
       "<div>\n",
       "<style>\n",
       "    .dataframe thead tr:only-child th {\n",
       "        text-align: right;\n",
       "    }\n",
       "\n",
       "    .dataframe thead th {\n",
       "        text-align: left;\n",
       "    }\n",
       "\n",
       "    .dataframe tbody tr th {\n",
       "        vertical-align: top;\n",
       "    }\n",
       "</style>\n",
       "<table border=\"1\" class=\"dataframe\">\n",
       "  <thead>\n",
       "    <tr style=\"text-align: right;\">\n",
       "      <th></th>\n",
       "      <th>ShellMuncode</th>\n",
       "      <th>Shellfishgroup</th>\n",
       "      <th>ShellParameter</th>\n",
       "      <th>ShellDoc_DEP</th>\n",
       "      <th>ShellTmdlTitle</th>\n",
       "    </tr>\n",
       "  </thead>\n",
       "  <tbody>\n",
       "    <tr>\n",
       "      <th>0</th>\n",
       "      <td>101</td>\n",
       "      <td>absecon bay-a, absecon bay-c</td>\n",
       "      <td>Total coliform</td>\n",
       "      <td>http://www.nj.gov/dep/wms/bears/docs/Coastal_P...</td>\n",
       "      <td>Six Total Maximum Daily Loads for Total Colifo...</td>\n",
       "    </tr>\n",
       "    <tr>\n",
       "      <th>1</th>\n",
       "      <td>101</td>\n",
       "      <td>absecon bay-a, absecon bay-c, absecon creek-a</td>\n",
       "      <td>Total coliform</td>\n",
       "      <td>http://www.nj.gov/dep/wms/bears/docs/Coastal_P...</td>\n",
       "      <td>Six Total Maximum Daily Loads for Total Colifo...</td>\n",
       "    </tr>\n",
       "    <tr>\n",
       "      <th>2</th>\n",
       "      <td>101</td>\n",
       "      <td>absecon bay-b</td>\n",
       "      <td>Total coliform</td>\n",
       "      <td>http://www.nj.gov/dep/wms/bears/docs/Coastal_P...</td>\n",
       "      <td>Six Total Maximum Daily Loads for Total Colifo...</td>\n",
       "    </tr>\n",
       "    <tr>\n",
       "      <th>3</th>\n",
       "      <td>101</td>\n",
       "      <td>cordery creek-a</td>\n",
       "      <td>Total coliform</td>\n",
       "      <td>http://www.nj.gov/dep/wms/bears/docs/Coastal_P...</td>\n",
       "      <td>Six Total Maximum Daily Loads for Total Colifo...</td>\n",
       "    </tr>\n",
       "    <tr>\n",
       "      <th>4</th>\n",
       "      <td>102</td>\n",
       "      <td>absecon bay-a, absecon bay-c</td>\n",
       "      <td>Total coliform</td>\n",
       "      <td>http://www.nj.gov/dep/wms/bears/docs/Coastal_P...</td>\n",
       "      <td>Six Total Maximum Daily Loads for Total Colifo...</td>\n",
       "    </tr>\n",
       "  </tbody>\n",
       "</table>\n",
       "</div>"
      ],
      "text/plain": [
       "   ShellMuncode                                 Shellfishgroup  \\\n",
       "0           101                   absecon bay-a, absecon bay-c   \n",
       "1           101  absecon bay-a, absecon bay-c, absecon creek-a   \n",
       "2           101                                  absecon bay-b   \n",
       "3           101                                cordery creek-a   \n",
       "4           102                   absecon bay-a, absecon bay-c   \n",
       "\n",
       "   ShellParameter                                       ShellDoc_DEP  \\\n",
       "0  Total coliform  http://www.nj.gov/dep/wms/bears/docs/Coastal_P...   \n",
       "1  Total coliform  http://www.nj.gov/dep/wms/bears/docs/Coastal_P...   \n",
       "2  Total coliform  http://www.nj.gov/dep/wms/bears/docs/Coastal_P...   \n",
       "3  Total coliform  http://www.nj.gov/dep/wms/bears/docs/Coastal_P...   \n",
       "4  Total coliform  http://www.nj.gov/dep/wms/bears/docs/Coastal_P...   \n",
       "\n",
       "                                      ShellTmdlTitle  \n",
       "0  Six Total Maximum Daily Loads for Total Colifo...  \n",
       "1  Six Total Maximum Daily Loads for Total Colifo...  \n",
       "2  Six Total Maximum Daily Loads for Total Colifo...  \n",
       "3  Six Total Maximum Daily Loads for Total Colifo...  \n",
       "4  Six Total Maximum Daily Loads for Total Colifo...  "
      ]
     },
     "metadata": {},
     "output_type": "display_data"
    },
    {
     "name": "stdout",
     "output_type": "stream",
     "text": [
      "\n",
      "First Five Tuples in ShellTmdlList\n",
      "\n",
      "[(101, 'absecon bay-a, absecon bay-c', 'Total coliform', 'http://www.nj.gov/dep/wms/bears/docs/Coastal_Pathogen_TMDLs_WMA15.pdf', 'Six Total Maximum Daily Loads for Total Coliform to Address Shellfish-Impaired Waters in Watershed Management Area 15'), (101, 'absecon bay-a, absecon bay-c, absecon creek-a', 'Total coliform', 'http://www.nj.gov/dep/wms/bears/docs/Coastal_Pathogen_TMDLs_WMA15.pdf', 'Six Total Maximum Daily Loads for Total Coliform to Address Shellfish-Impaired Waters in Watershed Management Area 15'), (101, 'absecon bay-b', 'Total coliform', 'http://www.nj.gov/dep/wms/bears/docs/Coastal_Pathogen_TMDLs_WMA15.pdf', 'Six Total Maximum Daily Loads for Total Coliform to Address Shellfish-Impaired Waters in Watershed Management Area 15'), (101, 'cordery creek-a', 'Total coliform', 'http://www.nj.gov/dep/wms/bears/docs/Coastal_Pathogen_TMDLs_WMA15.pdf', 'Six Total Maximum Daily Loads for Total Coliform to Address Shellfish-Impaired Waters in Watershed Management Area 15')]\n"
     ]
    }
   ],
   "source": [
    "#Dataframe from Mun_Shellfish file\n",
    "ShellFish_DF = TMDL_df('Mun_Shellfish_NoDups_NewLink_20160223.csv')\n",
    "\n",
    "##Creation of list of tuples from Mun_Lakes file\n",
    "ShellTmdlList  = TMDL_list_of_tuples(\"Mun_Shellfish_NoDups_NewLink_20160223.csv\")\n",
    "\n",
    "\n",
    "\n",
    "print('FIRST FIVE ROWS OF ShellFish_DF')\n",
    "display(ShellFish_DF.head())\n",
    "print(\"\\nFirst Five Tuples in ShellTmdlList\\n\")\n",
    "print(ShellTmdlList[0:4])\n"
   ]
  },
  {
   "cell_type": "markdown",
   "metadata": {
    "slideshow": {
     "slide_type": "slide"
    }
   },
   "source": [
    "### Creation of DataFrame and List of Tuples From Mun_Stream File <a name=\"stream\"></a> "
   ]
  },
  {
   "cell_type": "code",
   "execution_count": 4,
   "metadata": {
    "slideshow": {
     "slide_type": "subslide"
    }
   },
   "outputs": [
    {
     "name": "stdout",
     "output_type": "stream",
     "text": [
      "FIRST FIVE ROWS OF Stream_DF\n"
     ]
    },
    {
     "data": {
      "text/html": [
       "<div>\n",
       "<style>\n",
       "    .dataframe thead tr:only-child th {\n",
       "        text-align: right;\n",
       "    }\n",
       "\n",
       "    .dataframe thead th {\n",
       "        text-align: left;\n",
       "    }\n",
       "\n",
       "    .dataframe tbody tr th {\n",
       "        vertical-align: top;\n",
       "    }\n",
       "</style>\n",
       "<table border=\"1\" class=\"dataframe\">\n",
       "  <thead>\n",
       "    <tr style=\"text-align: right;\">\n",
       "      <th></th>\n",
       "      <th>StreamMuncode</th>\n",
       "      <th>StreamParameter</th>\n",
       "      <th>StreamTmdlName</th>\n",
       "      <th>StreamTmdlDate</th>\n",
       "      <th>StreamDoc_DEP</th>\n",
       "      <th>StreamTmdlTitle</th>\n",
       "    </tr>\n",
       "  </thead>\n",
       "  <tbody>\n",
       "    <tr>\n",
       "      <th>0</th>\n",
       "      <td>235</td>\n",
       "      <td>Fecal Coliform</td>\n",
       "      <td>W Br Saddle, Saddle R at Ridgewood, Lodi &amp; Fai...</td>\n",
       "      <td>2003</td>\n",
       "      <td>http://www.nj.gov/dep/wms/bears/docs/Northeast...</td>\n",
       "      <td>Total Maximum Daily Loads for Fecal Coliform t...</td>\n",
       "    </tr>\n",
       "    <tr>\n",
       "      <th>1</th>\n",
       "      <td>235</td>\n",
       "      <td>Total Phosphorus</td>\n",
       "      <td>Goffle Brook</td>\n",
       "      <td>2008</td>\n",
       "      <td>http://www.nj.gov/dep/wms/bears/docs/passaic_t...</td>\n",
       "      <td>Total Maximum Daily Load Report for the Non-Ti...</td>\n",
       "    </tr>\n",
       "    <tr>\n",
       "      <th>2</th>\n",
       "      <td>235</td>\n",
       "      <td>Total Phosphorus</td>\n",
       "      <td>Passaic R Lwr (Fair Lawn Ave to Goffle)</td>\n",
       "      <td>2008</td>\n",
       "      <td>http://www.nj.gov/dep/wms/bears/docs/passaic_t...</td>\n",
       "      <td>Total Maximum Daily Load Report for the Non-Ti...</td>\n",
       "    </tr>\n",
       "    <tr>\n",
       "      <th>3</th>\n",
       "      <td>236</td>\n",
       "      <td>Fecal Coliform</td>\n",
       "      <td>Hackensack R</td>\n",
       "      <td>2003</td>\n",
       "      <td>http://www.nj.gov/dep/wms/bears/docs/Northeast...</td>\n",
       "      <td>Total Maximum Daily Loads for Fecal Coliform t...</td>\n",
       "    </tr>\n",
       "    <tr>\n",
       "      <th>4</th>\n",
       "      <td>236</td>\n",
       "      <td>Fecal Coliform</td>\n",
       "      <td>Pascack Brook/Musquapsink Brook</td>\n",
       "      <td>2003</td>\n",
       "      <td>http://www.nj.gov/dep/wms/bears/docs/Northeast...</td>\n",
       "      <td>Total Maximum Daily Loads for Fecal Coliform t...</td>\n",
       "    </tr>\n",
       "  </tbody>\n",
       "</table>\n",
       "</div>"
      ],
      "text/plain": [
       "   StreamMuncode   StreamParameter  \\\n",
       "0            235    Fecal Coliform   \n",
       "1            235  Total Phosphorus   \n",
       "2            235  Total Phosphorus   \n",
       "3            236    Fecal Coliform   \n",
       "4            236    Fecal Coliform   \n",
       "\n",
       "                                      StreamTmdlName  StreamTmdlDate  \\\n",
       "0  W Br Saddle, Saddle R at Ridgewood, Lodi & Fai...            2003   \n",
       "1                                       Goffle Brook            2008   \n",
       "2            Passaic R Lwr (Fair Lawn Ave to Goffle)            2008   \n",
       "3                                       Hackensack R            2003   \n",
       "4                    Pascack Brook/Musquapsink Brook            2003   \n",
       "\n",
       "                                       StreamDoc_DEP  \\\n",
       "0  http://www.nj.gov/dep/wms/bears/docs/Northeast...   \n",
       "1  http://www.nj.gov/dep/wms/bears/docs/passaic_t...   \n",
       "2  http://www.nj.gov/dep/wms/bears/docs/passaic_t...   \n",
       "3  http://www.nj.gov/dep/wms/bears/docs/Northeast...   \n",
       "4  http://www.nj.gov/dep/wms/bears/docs/Northeast...   \n",
       "\n",
       "                                     StreamTmdlTitle  \n",
       "0  Total Maximum Daily Loads for Fecal Coliform t...  \n",
       "1  Total Maximum Daily Load Report for the Non-Ti...  \n",
       "2  Total Maximum Daily Load Report for the Non-Ti...  \n",
       "3  Total Maximum Daily Loads for Fecal Coliform t...  \n",
       "4  Total Maximum Daily Loads for Fecal Coliform t...  "
      ]
     },
     "metadata": {},
     "output_type": "display_data"
    },
    {
     "name": "stdout",
     "output_type": "stream",
     "text": [
      "\n",
      "First Five Tuples in StreamTmdlList\n",
      "\n",
      "[(235, 'Fecal Coliform', 'W Br Saddle, Saddle R at Ridgewood, Lodi & Fairlaw', 2003, 'http://www.nj.gov/dep/wms/bears/docs/Northeast%20FC.pdf', 'Total Maximum Daily Loads for Fecal Coliform to Address 32 Streams in the Northeast Water Region'), (235, 'Total Phosphorus', 'Goffle Brook', 2008, 'http://www.nj.gov/dep/wms/bears/docs/passaic_tmdl.pdf', 'Total Maximum Daily Load Report for the Non-Tidal Passaic River Basin Addressing Phosphorus Impairments'), (235, 'Total Phosphorus', 'Passaic R Lwr (Fair Lawn Ave to Goffle)', 2008, 'http://www.nj.gov/dep/wms/bears/docs/passaic_tmdl.pdf', 'Total Maximum Daily Load Report for the Non-Tidal Passaic River Basin Addressing Phosphorus Impairments'), (236, 'Fecal Coliform', 'Hackensack R', 2003, 'http://www.nj.gov/dep/wms/bears/docs/Northeast%20FC.pdf', 'Total Maximum Daily Loads for Fecal Coliform to Address 32 Streams in the Northeast Water Region')]\n"
     ]
    }
   ],
   "source": [
    "Stream_DF = TMDL_df('Mun_Streams_NoDups_NewLink_20160223.csv')\n",
    "StreamTmdlList = TMDL_list_of_tuples('Mun_Streams_NoDups_NewLink_20160223.csv')\n",
    "\n",
    "print('FIRST FIVE ROWS OF Stream_DF')\n",
    "display(Stream_DF.head())\n",
    "print(\"\\nFirst Five Tuples in StreamTmdlList\\n\")\n",
    "print(StreamTmdlList[0:4])\n"
   ]
  },
  {
   "cell_type": "markdown",
   "metadata": {
    "slideshow": {
     "slide_type": "slide"
    }
   },
   "source": [
    "### Creation of List of Unique Municipality Codes <a name=\"muncodes\"></a> "
   ]
  },
  {
   "cell_type": "code",
   "execution_count": 5,
   "metadata": {
    "slideshow": {
     "slide_type": "subslide"
    }
   },
   "outputs": [
    {
     "name": "stdout",
     "output_type": "stream",
     "text": [
      "The Sorted Munis List, First 10 Values\n"
     ]
    },
    {
     "data": {
      "text/plain": [
       "[101, 102, 103, 104, 105, 106, 107, 108, 109, 110]"
      ]
     },
     "execution_count": 5,
     "metadata": {},
     "output_type": "execute_result"
    }
   ],
   "source": [
    "#Creation of unique list MunCodes\n",
    "\n",
    "#creation of dataframe containing the single column 'Muncode'\n",
    "Munis = TMDL_df('Muni_HUC14_MunCode_20160511.csv',columns = ['Muncode'])\n",
    "\n",
    "#Dropping duplicates\n",
    "Munis = Munis.drop_duplicates()\n",
    "\n",
    "#Turning munis into a sorted list of muncode values\n",
    "Munis = list(np.sort(Munis['Muncode'].values))\n",
    "\n",
    "print('The Sorted Munis List, First 10 Values')\n",
    "Munis[0:10]"
   ]
  },
  {
   "cell_type": "markdown",
   "metadata": {
    "slideshow": {
     "slide_type": "slide"
    }
   },
   "source": [
    "### Creation of MuniLbls DataFrame, Which Contains Unique Muncodes, with corresponding Name and County <a name=\"mundata\"></a> "
   ]
  },
  {
   "cell_type": "code",
   "execution_count": 6,
   "metadata": {
    "slideshow": {
     "slide_type": "subslide"
    }
   },
   "outputs": [
    {
     "name": "stdout",
     "output_type": "stream",
     "text": [
      "First Five Rows of the SortedMuniLbls_DF\n"
     ]
    },
    {
     "data": {
      "text/html": [
       "<div>\n",
       "<style>\n",
       "    .dataframe thead tr:only-child th {\n",
       "        text-align: right;\n",
       "    }\n",
       "\n",
       "    .dataframe thead th {\n",
       "        text-align: left;\n",
       "    }\n",
       "\n",
       "    .dataframe tbody tr th {\n",
       "        vertical-align: top;\n",
       "    }\n",
       "</style>\n",
       "<table border=\"1\" class=\"dataframe\">\n",
       "  <thead>\n",
       "    <tr style=\"text-align: right;\">\n",
       "      <th></th>\n",
       "      <th>Muncode</th>\n",
       "      <th>MunName</th>\n",
       "      <th>County</th>\n",
       "    </tr>\n",
       "  </thead>\n",
       "  <tbody>\n",
       "    <tr>\n",
       "      <th>3109</th>\n",
       "      <td>101</td>\n",
       "      <td>Absecon City</td>\n",
       "      <td>Atlantic</td>\n",
       "    </tr>\n",
       "    <tr>\n",
       "      <th>186</th>\n",
       "      <td>102</td>\n",
       "      <td>Atlantic City</td>\n",
       "      <td>Atlantic</td>\n",
       "    </tr>\n",
       "    <tr>\n",
       "      <th>226</th>\n",
       "      <td>103</td>\n",
       "      <td>Brigantine City</td>\n",
       "      <td>Atlantic</td>\n",
       "    </tr>\n",
       "    <tr>\n",
       "      <th>257</th>\n",
       "      <td>104</td>\n",
       "      <td>Buena Borough</td>\n",
       "      <td>Atlantic</td>\n",
       "    </tr>\n",
       "    <tr>\n",
       "      <th>996</th>\n",
       "      <td>105</td>\n",
       "      <td>Buena Vista Township</td>\n",
       "      <td>Atlantic</td>\n",
       "    </tr>\n",
       "  </tbody>\n",
       "</table>\n",
       "</div>"
      ],
      "text/plain": [
       "      Muncode               MunName    County\n",
       "3109      101          Absecon City  Atlantic\n",
       "186       102         Atlantic City  Atlantic\n",
       "226       103       Brigantine City  Atlantic\n",
       "257       104         Buena Borough  Atlantic\n",
       "996       105  Buena Vista Township  Atlantic"
      ]
     },
     "execution_count": 6,
     "metadata": {},
     "output_type": "execute_result"
    }
   ],
   "source": [
    "#Creation of MuniLbls DataFrame. Each Row contains a Muncode, MunName, and the County. \n",
    "#Used the optional columns argument, so that the HUC14 column was not included in the dataframe\n",
    "MuniLbls_DF = TMDL_df('Muni_HUC14_MunCode_20160511.csv',columns = ['Muncode','MunName','County'])\n",
    "\n",
    "#The County names were in all uppercase. The following line converts the County Names to Title Case\n",
    "MuniLbls_DF.County = MuniLbls_DF['County'].str.title()\n",
    "\n",
    "#Removal of Duplicates\n",
    "MuniLbls_DF = MuniLbls_DF.drop_duplicates()\n",
    "\n",
    "#Sorting the dataframe by muncode. '.reset_index(drop = True) is necessary to resort the index numbers.\n",
    "MuniLbls_DF = MuniLbls_DF.sort_values(by = 'Muncode')\n",
    "\n",
    "print('First Five Rows of the SortedMuniLbls_DF')\n",
    "MuniLbls_DF.head()"
   ]
  },
  {
   "cell_type": "markdown",
   "metadata": {
    "slideshow": {
     "slide_type": "subslide"
    }
   },
   "source": [
    "Notice, the index (the column of numbers on the far left, is '3109,186,226,257,996,...'. It should be '0,1,2,....' The index values are the index values the Municipalities had before sorting by Muncode. The index can be fixed as follows"
   ]
  },
  {
   "cell_type": "code",
   "execution_count": 7,
   "metadata": {
    "slideshow": {
     "slide_type": "subslide"
    }
   },
   "outputs": [
    {
     "name": "stdout",
     "output_type": "stream",
     "text": [
      "First Five Rows of MuniLbls_DF With Fixed Index\n"
     ]
    },
    {
     "data": {
      "text/html": [
       "<div>\n",
       "<style>\n",
       "    .dataframe thead tr:only-child th {\n",
       "        text-align: right;\n",
       "    }\n",
       "\n",
       "    .dataframe thead th {\n",
       "        text-align: left;\n",
       "    }\n",
       "\n",
       "    .dataframe tbody tr th {\n",
       "        vertical-align: top;\n",
       "    }\n",
       "</style>\n",
       "<table border=\"1\" class=\"dataframe\">\n",
       "  <thead>\n",
       "    <tr style=\"text-align: right;\">\n",
       "      <th></th>\n",
       "      <th>Muncode</th>\n",
       "      <th>MunName</th>\n",
       "      <th>County</th>\n",
       "    </tr>\n",
       "  </thead>\n",
       "  <tbody>\n",
       "    <tr>\n",
       "      <th>0</th>\n",
       "      <td>101</td>\n",
       "      <td>Absecon City</td>\n",
       "      <td>Atlantic</td>\n",
       "    </tr>\n",
       "    <tr>\n",
       "      <th>1</th>\n",
       "      <td>102</td>\n",
       "      <td>Atlantic City</td>\n",
       "      <td>Atlantic</td>\n",
       "    </tr>\n",
       "    <tr>\n",
       "      <th>2</th>\n",
       "      <td>103</td>\n",
       "      <td>Brigantine City</td>\n",
       "      <td>Atlantic</td>\n",
       "    </tr>\n",
       "    <tr>\n",
       "      <th>3</th>\n",
       "      <td>104</td>\n",
       "      <td>Buena Borough</td>\n",
       "      <td>Atlantic</td>\n",
       "    </tr>\n",
       "    <tr>\n",
       "      <th>4</th>\n",
       "      <td>105</td>\n",
       "      <td>Buena Vista Township</td>\n",
       "      <td>Atlantic</td>\n",
       "    </tr>\n",
       "  </tbody>\n",
       "</table>\n",
       "</div>"
      ],
      "text/plain": [
       "   Muncode               MunName    County\n",
       "0      101          Absecon City  Atlantic\n",
       "1      102         Atlantic City  Atlantic\n",
       "2      103       Brigantine City  Atlantic\n",
       "3      104         Buena Borough  Atlantic\n",
       "4      105  Buena Vista Township  Atlantic"
      ]
     },
     "execution_count": 7,
     "metadata": {},
     "output_type": "execute_result"
    }
   ],
   "source": [
    "MuniLbls_DF = MuniLbls_DF.reset_index(drop=True)\n",
    "\n",
    "print('First Five Rows of MuniLbls_DF With Fixed Index')\n",
    "MuniLbls_DF.head()"
   ]
  },
  {
   "cell_type": "markdown",
   "metadata": {
    "slideshow": {
     "slide_type": "slide"
    }
   },
   "source": [
    "### Creation of List of Tuples From MuniLbls DataFrame <a name=\"municipalities_list\"></a> "
   ]
  },
  {
   "cell_type": "code",
   "execution_count": 8,
   "metadata": {
    "slideshow": {
     "slide_type": "subslide"
    }
   },
   "outputs": [
    {
     "name": "stdout",
     "output_type": "stream",
     "text": [
      "List Containing First 5 Tuples in the MiniLbls list\n",
      "\n"
     ]
    },
    {
     "data": {
      "text/plain": [
       "[(101, 'Absecon City', 'Atlantic'),\n",
       " (102, 'Atlantic City', 'Atlantic'),\n",
       " (103, 'Brigantine City', 'Atlantic'),\n",
       " (104, 'Buena Borough', 'Atlantic'),\n",
       " (105, 'Buena Vista Township', 'Atlantic')]"
      ]
     },
     "execution_count": 8,
     "metadata": {},
     "output_type": "execute_result"
    }
   ],
   "source": [
    "#Creation of MuniLbls list of tuples from MuniLbls_DF\n",
    "MuniLbls = TMDL_df_to_list_of_tuples(MuniLbls_DF)\n",
    "\n",
    "print('List Containing First 5 Tuples in the MiniLbls list\\n')\n",
    "MuniLbls[0:5]"
   ]
  }
 ],
 "metadata": {
  "celltoolbar": "Slideshow",
  "kernelspec": {
   "display_name": "Python 3",
   "language": "python",
   "name": "python3"
  },
  "language_info": {
   "codemirror_mode": {
    "name": "ipython",
    "version": 3
   },
   "file_extension": ".py",
   "mimetype": "text/x-python",
   "name": "python",
   "nbconvert_exporter": "python",
   "pygments_lexer": "ipython3",
   "version": "3.6.1"
  }
 },
 "nbformat": 4,
 "nbformat_minor": 2
}
